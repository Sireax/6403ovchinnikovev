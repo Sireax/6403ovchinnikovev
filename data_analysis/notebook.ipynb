{
 "cells": [
  {
   "cell_type": "markdown",
   "id": "cbaf8dd3cf9b4622",
   "metadata": {},
   "source": [
    "Импорты"
   ]
  },
  {
   "cell_type": "code",
   "execution_count": 1,
   "id": "940827c9ed018a0c",
   "metadata": {
    "ExecuteTime": {
     "end_time": "2024-12-03T05:30:13.525638Z",
     "start_time": "2024-12-03T05:30:13.119146Z"
    }
   },
   "outputs": [],
   "source": [
    "from datetime import datetime\n",
    "from loader.module.generator import lag_generator\n",
    "from loader.module.data_analyzer import DataAnalyzer\n",
    "from loader.module.save_excel import save_to_excel\n",
    "from meteostat import Point, Daily"
   ]
  },
  {
   "cell_type": "markdown",
   "id": "e831062dfaec370a",
   "metadata": {},
   "source": "Получаем данные из Meteostat"
  },
  {
   "cell_type": "code",
   "execution_count": 2,
   "id": "8268e97c30ca0cac",
   "metadata": {
    "ExecuteTime": {
     "end_time": "2024-12-03T05:30:13.565568Z",
     "start_time": "2024-12-03T05:30:13.526646Z"
    }
   },
   "outputs": [],
   "source": [
    "start = datetime(2015, 1, 1)\n",
    "end = datetime(2018, 12, 31)\n",
    "\n",
    "# Получаем данные только для ванкувера, работает только он\n",
    "vancouver = Point(49.2497, -123.1193, 70)\n",
    "\n",
    "data = Daily(vancouver, start, end)\n",
    "data = data.fetch()"
   ]
  },
  {
   "cell_type": "markdown",
   "id": "67e59324ceddd292",
   "metadata": {},
   "source": [
    "Инициализация модуля для расчёта погодных данных"
   ]
  },
  {
   "cell_type": "code",
   "execution_count": 3,
   "id": "4e43c69922050c48",
   "metadata": {
    "ExecuteTime": {
     "end_time": "2024-12-03T05:30:13.577048Z",
     "start_time": "2024-12-03T05:30:13.566171Z"
    }
   },
   "outputs": [
    {
     "data": {
      "text/plain": "            tavg  tmin  tmax  prcp  snow   wdir  wspd   wpgt    pres  tsun\ntime                                                                      \n2015-01-01   1.4  -2.1   4.8   0.0   0.0    NaN   6.1    NaN  1027.0   NaN\n2015-01-02   2.6   1.5   3.6   1.8   0.0   66.0  10.2    NaN  1020.9   NaN\n2015-01-03   3.1   1.6   4.5   1.8   0.0   77.0   9.8    NaN  1024.9   NaN\n2015-01-04   4.4   2.8   5.9  52.0   0.0   76.0  18.5    NaN  1019.3   NaN\n2015-01-05   6.1   4.8   7.4  22.3   0.0   73.0  13.6    NaN  1020.9   NaN\n...          ...   ...   ...   ...   ...    ...   ...    ...     ...   ...\n2018-12-27   3.6   1.8   5.3   0.0   0.0   74.0   7.2    NaN  1027.8   NaN\n2018-12-28   3.8   2.8   4.8  24.5   0.0   66.0  17.6    NaN  1025.2   NaN\n2018-12-29   7.5   4.6  10.3  16.6   0.0  180.0  25.3  208.8  1013.7   NaN\n2018-12-30   4.8   2.2   7.3   0.2   0.0  319.0  16.0  241.2  1021.5   NaN\n2018-12-31   3.2  -0.3   6.8   0.0   0.0  110.0   6.8    NaN  1032.1   NaN\n\n[1461 rows x 10 columns]",
      "text/html": "<div>\n<style scoped>\n    .dataframe tbody tr th:only-of-type {\n        vertical-align: middle;\n    }\n\n    .dataframe tbody tr th {\n        vertical-align: top;\n    }\n\n    .dataframe thead th {\n        text-align: right;\n    }\n</style>\n<table border=\"1\" class=\"dataframe\">\n  <thead>\n    <tr style=\"text-align: right;\">\n      <th></th>\n      <th>tavg</th>\n      <th>tmin</th>\n      <th>tmax</th>\n      <th>prcp</th>\n      <th>snow</th>\n      <th>wdir</th>\n      <th>wspd</th>\n      <th>wpgt</th>\n      <th>pres</th>\n      <th>tsun</th>\n    </tr>\n    <tr>\n      <th>time</th>\n      <th></th>\n      <th></th>\n      <th></th>\n      <th></th>\n      <th></th>\n      <th></th>\n      <th></th>\n      <th></th>\n      <th></th>\n      <th></th>\n    </tr>\n  </thead>\n  <tbody>\n    <tr>\n      <th>2015-01-01</th>\n      <td>1.4</td>\n      <td>-2.1</td>\n      <td>4.8</td>\n      <td>0.0</td>\n      <td>0.0</td>\n      <td>NaN</td>\n      <td>6.1</td>\n      <td>NaN</td>\n      <td>1027.0</td>\n      <td>NaN</td>\n    </tr>\n    <tr>\n      <th>2015-01-02</th>\n      <td>2.6</td>\n      <td>1.5</td>\n      <td>3.6</td>\n      <td>1.8</td>\n      <td>0.0</td>\n      <td>66.0</td>\n      <td>10.2</td>\n      <td>NaN</td>\n      <td>1020.9</td>\n      <td>NaN</td>\n    </tr>\n    <tr>\n      <th>2015-01-03</th>\n      <td>3.1</td>\n      <td>1.6</td>\n      <td>4.5</td>\n      <td>1.8</td>\n      <td>0.0</td>\n      <td>77.0</td>\n      <td>9.8</td>\n      <td>NaN</td>\n      <td>1024.9</td>\n      <td>NaN</td>\n    </tr>\n    <tr>\n      <th>2015-01-04</th>\n      <td>4.4</td>\n      <td>2.8</td>\n      <td>5.9</td>\n      <td>52.0</td>\n      <td>0.0</td>\n      <td>76.0</td>\n      <td>18.5</td>\n      <td>NaN</td>\n      <td>1019.3</td>\n      <td>NaN</td>\n    </tr>\n    <tr>\n      <th>2015-01-05</th>\n      <td>6.1</td>\n      <td>4.8</td>\n      <td>7.4</td>\n      <td>22.3</td>\n      <td>0.0</td>\n      <td>73.0</td>\n      <td>13.6</td>\n      <td>NaN</td>\n      <td>1020.9</td>\n      <td>NaN</td>\n    </tr>\n    <tr>\n      <th>...</th>\n      <td>...</td>\n      <td>...</td>\n      <td>...</td>\n      <td>...</td>\n      <td>...</td>\n      <td>...</td>\n      <td>...</td>\n      <td>...</td>\n      <td>...</td>\n      <td>...</td>\n    </tr>\n    <tr>\n      <th>2018-12-27</th>\n      <td>3.6</td>\n      <td>1.8</td>\n      <td>5.3</td>\n      <td>0.0</td>\n      <td>0.0</td>\n      <td>74.0</td>\n      <td>7.2</td>\n      <td>NaN</td>\n      <td>1027.8</td>\n      <td>NaN</td>\n    </tr>\n    <tr>\n      <th>2018-12-28</th>\n      <td>3.8</td>\n      <td>2.8</td>\n      <td>4.8</td>\n      <td>24.5</td>\n      <td>0.0</td>\n      <td>66.0</td>\n      <td>17.6</td>\n      <td>NaN</td>\n      <td>1025.2</td>\n      <td>NaN</td>\n    </tr>\n    <tr>\n      <th>2018-12-29</th>\n      <td>7.5</td>\n      <td>4.6</td>\n      <td>10.3</td>\n      <td>16.6</td>\n      <td>0.0</td>\n      <td>180.0</td>\n      <td>25.3</td>\n      <td>208.8</td>\n      <td>1013.7</td>\n      <td>NaN</td>\n    </tr>\n    <tr>\n      <th>2018-12-30</th>\n      <td>4.8</td>\n      <td>2.2</td>\n      <td>7.3</td>\n      <td>0.2</td>\n      <td>0.0</td>\n      <td>319.0</td>\n      <td>16.0</td>\n      <td>241.2</td>\n      <td>1021.5</td>\n      <td>NaN</td>\n    </tr>\n    <tr>\n      <th>2018-12-31</th>\n      <td>3.2</td>\n      <td>-0.3</td>\n      <td>6.8</td>\n      <td>0.0</td>\n      <td>0.0</td>\n      <td>110.0</td>\n      <td>6.8</td>\n      <td>NaN</td>\n      <td>1032.1</td>\n      <td>NaN</td>\n    </tr>\n  </tbody>\n</table>\n<p>1461 rows × 10 columns</p>\n</div>"
     },
     "execution_count": 3,
     "metadata": {},
     "output_type": "execute_result"
    }
   ],
   "source": [
    "analyzer = DataAnalyzer(data)\n",
    "analyzer.get_data()"
   ]
  },
  {
   "cell_type": "code",
   "execution_count": 4,
   "id": "a31d07e4d2823005",
   "metadata": {
    "ExecuteTime": {
     "end_time": "2024-12-03T05:30:13.580717Z",
     "start_time": "2024-12-03T05:30:13.577664Z"
    }
   },
   "outputs": [
    {
     "data": {
      "text/plain": "1"
     },
     "execution_count": 4,
     "metadata": {},
     "output_type": "execute_result"
    }
   ],
   "source": [
    "gen = lag_generator()\n",
    "lag_value_1 = next(gen)\n",
    "lag_value_1"
   ]
  },
  {
   "cell_type": "code",
   "execution_count": 5,
   "id": "d9d25a780ce373c0",
   "metadata": {
    "ExecuteTime": {
     "end_time": "2024-12-03T05:30:13.598192Z",
     "start_time": "2024-12-03T05:30:13.584439Z"
    }
   },
   "outputs": [
    {
     "data": {
      "text/plain": "            tavg  tmin  tmax  prcp  snow   wdir  wspd   wpgt    pres  tsun  \\\ntime                                                                         \n2015-01-01   1.4  -2.1   4.8   0.0   0.0    NaN   6.1    NaN  1027.0   NaN   \n2015-01-02   2.6   1.5   3.6   1.8   0.0   66.0  10.2    NaN  1020.9   NaN   \n2015-01-03   3.1   1.6   4.5   1.8   0.0   77.0   9.8    NaN  1024.9   NaN   \n2015-01-04   4.4   2.8   5.9  52.0   0.0   76.0  18.5    NaN  1019.3   NaN   \n2015-01-05   6.1   4.8   7.4  22.3   0.0   73.0  13.6    NaN  1020.9   NaN   \n...          ...   ...   ...   ...   ...    ...   ...    ...     ...   ...   \n2018-12-27   3.6   1.8   5.3   0.0   0.0   74.0   7.2    NaN  1027.8   NaN   \n2018-12-28   3.8   2.8   4.8  24.5   0.0   66.0  17.6    NaN  1025.2   NaN   \n2018-12-29   7.5   4.6  10.3  16.6   0.0  180.0  25.3  208.8  1013.7   NaN   \n2018-12-30   4.8   2.2   7.3   0.2   0.0  319.0  16.0  241.2  1021.5   NaN   \n2018-12-31   3.2  -0.3   6.8   0.0   0.0  110.0   6.8    NaN  1032.1   NaN   \n\n            moving_average_21  moving_average_3  temperature_difference  \\\ntime                                                                      \n2015-01-01                NaN               NaN                     NaN   \n2015-01-02                NaN               NaN                     NaN   \n2015-01-03                NaN          2.366667                     NaN   \n2015-01-04                NaN          3.366667                1.000000   \n2015-01-05                NaN          4.533333                1.166667   \n...                       ...               ...                     ...   \n2018-12-27           6.300000          4.066667               -0.733333   \n2018-12-28           6.376190          3.900000               -0.166667   \n2018-12-29           6.495238          4.966667                1.066667   \n2018-12-30           6.400000          5.366667                0.400000   \n2018-12-31           6.180952          5.166667               -0.200000   \n\n            moving_average_7  autocorrelation_lag_1  max_3  min_3  \ntime                                                               \n2015-01-01               NaN               0.997265    NaN    NaN  \n2015-01-02               NaN               0.997265    NaN    NaN  \n2015-01-03               NaN               0.997265    3.1    1.4  \n2015-01-04               NaN               0.997265    4.4    2.6  \n2015-01-05               NaN               0.997265    6.1    3.1  \n...                      ...                    ...    ...    ...  \n2018-12-27          4.857143               0.997265    4.3    3.6  \n2018-12-28          4.800000               0.997265    4.3    3.6  \n2018-12-29          4.985714               0.997265    7.5    3.6  \n2018-12-30          4.871429               0.997265    7.5    3.8  \n2018-12-31          4.500000               0.997265    7.5    3.2  \n\n[1461 rows x 17 columns]",
      "text/html": "<div>\n<style scoped>\n    .dataframe tbody tr th:only-of-type {\n        vertical-align: middle;\n    }\n\n    .dataframe tbody tr th {\n        vertical-align: top;\n    }\n\n    .dataframe thead th {\n        text-align: right;\n    }\n</style>\n<table border=\"1\" class=\"dataframe\">\n  <thead>\n    <tr style=\"text-align: right;\">\n      <th></th>\n      <th>tavg</th>\n      <th>tmin</th>\n      <th>tmax</th>\n      <th>prcp</th>\n      <th>snow</th>\n      <th>wdir</th>\n      <th>wspd</th>\n      <th>wpgt</th>\n      <th>pres</th>\n      <th>tsun</th>\n      <th>moving_average_21</th>\n      <th>moving_average_3</th>\n      <th>temperature_difference</th>\n      <th>moving_average_7</th>\n      <th>autocorrelation_lag_1</th>\n      <th>max_3</th>\n      <th>min_3</th>\n    </tr>\n    <tr>\n      <th>time</th>\n      <th></th>\n      <th></th>\n      <th></th>\n      <th></th>\n      <th></th>\n      <th></th>\n      <th></th>\n      <th></th>\n      <th></th>\n      <th></th>\n      <th></th>\n      <th></th>\n      <th></th>\n      <th></th>\n      <th></th>\n      <th></th>\n      <th></th>\n    </tr>\n  </thead>\n  <tbody>\n    <tr>\n      <th>2015-01-01</th>\n      <td>1.4</td>\n      <td>-2.1</td>\n      <td>4.8</td>\n      <td>0.0</td>\n      <td>0.0</td>\n      <td>NaN</td>\n      <td>6.1</td>\n      <td>NaN</td>\n      <td>1027.0</td>\n      <td>NaN</td>\n      <td>NaN</td>\n      <td>NaN</td>\n      <td>NaN</td>\n      <td>NaN</td>\n      <td>0.997265</td>\n      <td>NaN</td>\n      <td>NaN</td>\n    </tr>\n    <tr>\n      <th>2015-01-02</th>\n      <td>2.6</td>\n      <td>1.5</td>\n      <td>3.6</td>\n      <td>1.8</td>\n      <td>0.0</td>\n      <td>66.0</td>\n      <td>10.2</td>\n      <td>NaN</td>\n      <td>1020.9</td>\n      <td>NaN</td>\n      <td>NaN</td>\n      <td>NaN</td>\n      <td>NaN</td>\n      <td>NaN</td>\n      <td>0.997265</td>\n      <td>NaN</td>\n      <td>NaN</td>\n    </tr>\n    <tr>\n      <th>2015-01-03</th>\n      <td>3.1</td>\n      <td>1.6</td>\n      <td>4.5</td>\n      <td>1.8</td>\n      <td>0.0</td>\n      <td>77.0</td>\n      <td>9.8</td>\n      <td>NaN</td>\n      <td>1024.9</td>\n      <td>NaN</td>\n      <td>NaN</td>\n      <td>2.366667</td>\n      <td>NaN</td>\n      <td>NaN</td>\n      <td>0.997265</td>\n      <td>3.1</td>\n      <td>1.4</td>\n    </tr>\n    <tr>\n      <th>2015-01-04</th>\n      <td>4.4</td>\n      <td>2.8</td>\n      <td>5.9</td>\n      <td>52.0</td>\n      <td>0.0</td>\n      <td>76.0</td>\n      <td>18.5</td>\n      <td>NaN</td>\n      <td>1019.3</td>\n      <td>NaN</td>\n      <td>NaN</td>\n      <td>3.366667</td>\n      <td>1.000000</td>\n      <td>NaN</td>\n      <td>0.997265</td>\n      <td>4.4</td>\n      <td>2.6</td>\n    </tr>\n    <tr>\n      <th>2015-01-05</th>\n      <td>6.1</td>\n      <td>4.8</td>\n      <td>7.4</td>\n      <td>22.3</td>\n      <td>0.0</td>\n      <td>73.0</td>\n      <td>13.6</td>\n      <td>NaN</td>\n      <td>1020.9</td>\n      <td>NaN</td>\n      <td>NaN</td>\n      <td>4.533333</td>\n      <td>1.166667</td>\n      <td>NaN</td>\n      <td>0.997265</td>\n      <td>6.1</td>\n      <td>3.1</td>\n    </tr>\n    <tr>\n      <th>...</th>\n      <td>...</td>\n      <td>...</td>\n      <td>...</td>\n      <td>...</td>\n      <td>...</td>\n      <td>...</td>\n      <td>...</td>\n      <td>...</td>\n      <td>...</td>\n      <td>...</td>\n      <td>...</td>\n      <td>...</td>\n      <td>...</td>\n      <td>...</td>\n      <td>...</td>\n      <td>...</td>\n      <td>...</td>\n    </tr>\n    <tr>\n      <th>2018-12-27</th>\n      <td>3.6</td>\n      <td>1.8</td>\n      <td>5.3</td>\n      <td>0.0</td>\n      <td>0.0</td>\n      <td>74.0</td>\n      <td>7.2</td>\n      <td>NaN</td>\n      <td>1027.8</td>\n      <td>NaN</td>\n      <td>6.300000</td>\n      <td>4.066667</td>\n      <td>-0.733333</td>\n      <td>4.857143</td>\n      <td>0.997265</td>\n      <td>4.3</td>\n      <td>3.6</td>\n    </tr>\n    <tr>\n      <th>2018-12-28</th>\n      <td>3.8</td>\n      <td>2.8</td>\n      <td>4.8</td>\n      <td>24.5</td>\n      <td>0.0</td>\n      <td>66.0</td>\n      <td>17.6</td>\n      <td>NaN</td>\n      <td>1025.2</td>\n      <td>NaN</td>\n      <td>6.376190</td>\n      <td>3.900000</td>\n      <td>-0.166667</td>\n      <td>4.800000</td>\n      <td>0.997265</td>\n      <td>4.3</td>\n      <td>3.6</td>\n    </tr>\n    <tr>\n      <th>2018-12-29</th>\n      <td>7.5</td>\n      <td>4.6</td>\n      <td>10.3</td>\n      <td>16.6</td>\n      <td>0.0</td>\n      <td>180.0</td>\n      <td>25.3</td>\n      <td>208.8</td>\n      <td>1013.7</td>\n      <td>NaN</td>\n      <td>6.495238</td>\n      <td>4.966667</td>\n      <td>1.066667</td>\n      <td>4.985714</td>\n      <td>0.997265</td>\n      <td>7.5</td>\n      <td>3.6</td>\n    </tr>\n    <tr>\n      <th>2018-12-30</th>\n      <td>4.8</td>\n      <td>2.2</td>\n      <td>7.3</td>\n      <td>0.2</td>\n      <td>0.0</td>\n      <td>319.0</td>\n      <td>16.0</td>\n      <td>241.2</td>\n      <td>1021.5</td>\n      <td>NaN</td>\n      <td>6.400000</td>\n      <td>5.366667</td>\n      <td>0.400000</td>\n      <td>4.871429</td>\n      <td>0.997265</td>\n      <td>7.5</td>\n      <td>3.8</td>\n    </tr>\n    <tr>\n      <th>2018-12-31</th>\n      <td>3.2</td>\n      <td>-0.3</td>\n      <td>6.8</td>\n      <td>0.0</td>\n      <td>0.0</td>\n      <td>110.0</td>\n      <td>6.8</td>\n      <td>NaN</td>\n      <td>1032.1</td>\n      <td>NaN</td>\n      <td>6.180952</td>\n      <td>5.166667</td>\n      <td>-0.200000</td>\n      <td>4.500000</td>\n      <td>0.997265</td>\n      <td>7.5</td>\n      <td>3.2</td>\n    </tr>\n  </tbody>\n</table>\n<p>1461 rows × 17 columns</p>\n</div>"
     },
     "execution_count": 5,
     "metadata": {},
     "output_type": "execute_result"
    }
   ],
   "source": [
    "analyzer.moving_average(21)\n",
    "analyzer.calculate_difference()\n",
    "analyzer.auto_corr(1, 7)\n",
    "analyzer.find_max(3)\n",
    "analyzer.find_min(3)\n",
    "\n",
    "analyzer.get_data()"
   ]
  },
  {
   "cell_type": "code",
   "execution_count": 6,
   "id": "79a33f0948d23509",
   "metadata": {
    "ExecuteTime": {
     "end_time": "2024-12-03T05:30:13.897128Z",
     "start_time": "2024-12-03T05:30:13.599313Z"
    }
   },
   "outputs": [
    {
     "name": "stdout",
     "output_type": "stream",
     "text": [
      "Данные успешно сохранены в data.xlsx\n"
     ]
    }
   ],
   "source": "save_to_excel(analyzer.get_data(), \"data.xlsx\")"
  }
 ],
 "metadata": {
  "kernelspec": {
   "display_name": "Python 3 (ipykernel)",
   "language": "python",
   "name": "python3"
  },
  "language_info": {
   "codemirror_mode": {
    "name": "ipython",
    "version": 3
   },
   "file_extension": ".py",
   "mimetype": "text/x-python",
   "name": "python",
   "nbconvert_exporter": "python",
   "pygments_lexer": "ipython3",
   "version": "3.10.11"
  }
 },
 "nbformat": 4,
 "nbformat_minor": 5
}
